{
 "cells": [
  {
   "cell_type": "code",
   "execution_count": 1,
   "id": "03381178-fb38-48e9-88a4-ee54e642b783",
   "metadata": {},
   "outputs": [],
   "source": [
    "from collections import defaultdict, deque\n",
    "from typing import List, Tuple\n",
    "import tqdm\n",
    "import matplotlib.pyplot as plt\n",
    "\n",
    "import numpy as np\n",
    "import jax\n",
    "import jax.numpy as jnp\n",
    "import optax\n",
    "from flax import struct\n",
    "import tensorflow as tf\n",
    "\n",
    "from controllers._base import ControllerState\n",
    "from controllers.utils import append\n",
    "\n",
    "from training.trainer import TrainState, reset_model, create_train_state, forward, forward_and_backward, apply_gradients\n",
    "from training.hgd import HGDState, hypergrad_step\n",
    "from training.utils import cross_entropy, mse, load_mnist, MLP, CNN"
   ]
  },
  {
   "cell_type": "markdown",
   "id": "754a2343-561c-4272-b211-c92820c5b4e7",
   "metadata": {},
   "source": [
    "## Things we keep track of\n",
    "- states (params at current iterations)\n",
    "- disturbances (grads at previous iterations)\n",
    "- evolve functions (based on lrs and cost fns at current iterations)"
   ]
  },
  {
   "cell_type": "code",
   "execution_count": 2,
   "id": "c9d2836d-f297-463c-8072-4e2a7beb6383",
   "metadata": {},
   "outputs": [],
   "source": [
    "def gd(params, lr, cost_fn):\n",
    "    \"\"\"Gradient descent. \"\"\"\n",
    "    cost, grad = jax.value_and_grad(cost_fn)(params)\n",
    "    new_params = params - lr * grad\n",
    "    return (new_params, grad, cost,)"
   ]
  },
  {
   "cell_type": "code",
   "execution_count": 72,
   "id": "7289cfae-f627-4851-8ad3-daadeb12c3ad",
   "metadata": {},
   "outputs": [],
   "source": [
    "class MetaOptGPCState(ControllerState):\n",
    "    M: jnp.ndarray  # disturbance-feedback control matrices\n",
    "    \n",
    "    state_dim: int = struct.field(pytree_node=False)\n",
    "    H: int = struct.field(pytree_node=False)  # history of the controller, how many past disturbances to use for control\n",
    "    HH: int = struct.field(pytree_node=False)  # history of the system, how many hallucination steps to take\n",
    "    t: int  # time counter (for decaying learning rate)\n",
    "    lr: float\n",
    "    \n",
    "    @classmethod\n",
    "    def create(cls, \n",
    "               state_dim: int,\n",
    "               m_method: str,\n",
    "               H: int,\n",
    "               HH: int,\n",
    "               lr: float = 0.008,):\n",
    "        \n",
    "        if m_method == 'scalar': M = jnp.zeros((H, 1))\n",
    "        elif m_method == 'diagonal': M = jnp.zeros((H, state_dim))\n",
    "        elif m_method == 'full': M = jnp.zeros((H, state_dim, state_dim))\n",
    "        else: raise NotImplementedError(m_method)\n",
    "        \n",
    "        tx = optax.inject_hyperparams(optax.sgd)(learning_rate=lr)  # M optimizer\n",
    "        opt_state = tx.init(M)\n",
    "        \n",
    "        return cls(M=M,\n",
    "                   state_dim=state_dim, H=H, HH=HH, t=0,\n",
    "                   lr=lr, tx=tx, opt_state=opt_state)\n",
    "\n",
    "@jax.jit\n",
    "def compute_control(M, disturbances):\n",
    "    if M.ndim == 3: control = jnp.tensordot(M, disturbances, axes=([0, 2], [0, 1]))\n",
    "    else: control = (M * disturbances).sum(axis=0)\n",
    "    return control\n",
    "\n",
    "def _compute_loss(M, H, HH, initial_params, \n",
    "                  disturbances,  # past H + HH disturbances\n",
    "                  evolve_fns,  # past HH evolve functions, starting at the one that would have been used to evolve `initial_params`\n",
    "                  cost_fn):\n",
    "    # def _evolve(params, h):\n",
    "    #     return evolve_fns[h](params) + compute_control(M, jax.lax.dynamic_slice_in_dim(disturbances, h, H)), None\n",
    "    # params, _ = jax.lax.scan(_evolve, initial_params, jnp.arange(HH - 1))\n",
    "    params = initial_params\n",
    "    for h in range(HH):\n",
    "        params = evolve_fns[h](params) + compute_control(M, jax.lax.dynamic_slice_in_dim(disturbances, h, H))\n",
    "    loss = cost_fn(params)\n",
    "    return loss\n",
    "\n",
    "# _grad_fn = jax.jit(jax.grad(_compute_loss, (0,)), static_argnames=('H', 'HH'))\n",
    "_grad_fn = jax.grad(_compute_loss, (0,))\n",
    "\n",
    "# @jax.jit\n",
    "def update(cstate: MetaOptGPCState,\n",
    "           initial_params,  # params from HH steps ago\n",
    "           disturbances,  # past H + HH disturbances\n",
    "           evolve_fns,  # past HH evolve functions, starting at the one that would have been used to evolve `initial_params`\n",
    "           cost_fn\n",
    "          ):\n",
    "    # from time import perf_counter; s = perf_counter()\n",
    "    \n",
    "    grads = _grad_fn(cstate.M, cstate.H, cstate.HH, initial_params, disturbances, evolve_fns, cost_fn)\n",
    "    # print(f'got grad in {perf_counter() - s} s'); s = perf_counter()\n",
    "    updates, new_opt_state = cstate.tx.update(grads, cstate.opt_state, cstate.M)\n",
    "    # print(f'got updates in {perf_counter() - s} s'); s = perf_counter()\n",
    "    M = optax.apply_updates(cstate.M, updates[0])\n",
    "    # print(f'applied updates in {perf_counter() - s} s'); s = perf_counter()\n",
    "    cstate = cstate.replace(M=M, opt_state=new_opt_state, t=cstate.t+1)   \n",
    "    # print(f'replaced cstate in {perf_counter() - s} s'); s = perf_counter()\n",
    "    return cstate"
   ]
  },
  {
   "cell_type": "code",
   "execution_count": 82,
   "id": "91f28c76-cb2e-425c-9fe0-54a50c6a0363",
   "metadata": {},
   "outputs": [],
   "source": [
    "class MetaOpt:\n",
    "    param_history: deque\n",
    "    grad_history: jnp.ndarray\n",
    "    evolve_fn_history: Tuple\n",
    "    cstate: MetaOptGPCState\n",
    "    delta: float\n",
    "    t: int\n",
    "\n",
    "    def __init__(self, \n",
    "                 state_dim: int,\n",
    "                 H: int, HH: int,\n",
    "                 meta_lr: float, delta: float,\n",
    "                 m_method: str):\n",
    "        self.param_history = deque([], maxlen=HH)\n",
    "        self.grad_history = jnp.zeros((H + HH, state_dim))\n",
    "        self.evolve_fn_history = (None,) * HH\n",
    "        self.delta = delta\n",
    "        self.t = 0\n",
    "\n",
    "        assert m_method in ['scalar', 'diagonal', 'full']\n",
    "        self.cstate = MetaOptGPCState.create(state_dim, m_method, H, HH, lr=meta_lr)\n",
    "        pass\n",
    "\n",
    "    def meta_step(self, \n",
    "                  params,  # params after a step of gd\n",
    "                  grads,  # grads from the step of gd that resulted in `params`\n",
    "                  lr, cost_fn,  # lr and cost fn from step of gd that resulted in `params`\n",
    "                 ):        \n",
    "        if self.t >= self.cstate.H + self.cstate.HH:\n",
    "            params = (1 - self.delta) * params + compute_control(self.cstate.M, jax.lax.dynamic_slice_in_dim(self.grad_history, -self.cstate.H, self.cstate.H))\n",
    "            self.cstate = update(self.cstate, self.param_history[0], self.grad_history, self.evolve_fn_history, jax.tree_util.Partial(cost_fn))\n",
    "\n",
    "        self.param_history.append(params)\n",
    "        self.grad_history = append(self.grad_history, grads)\n",
    "        self.evolve_fn_history = append(self.evolve_fn_history, jax.tree_util.Partial(lambda p: gd(p, lr, cost_fn)[0]))\n",
    "        self.t += 1\n",
    "        return params"
   ]
  },
  {
   "cell_type": "markdown",
   "id": "61959a46-aca6-4633-8284-4f038e8f654f",
   "metadata": {},
   "source": [
    "# Run Things"
   ]
  },
  {
   "cell_type": "code",
   "execution_count": 99,
   "id": "1e575d84-4c22-4a7e-aaf3-0c5ef62c98d0",
   "metadata": {},
   "outputs": [],
   "source": [
    "def run(seed, state_dim, use_meta_opt):\n",
    "    np.random.seed(seed)\n",
    "    initial_params = jnp.array(np.random.randn(state_dim)) / 10\n",
    "    def cost_fn(p):\n",
    "        return (p ** 2).sum()\n",
    "    lr = 0.01\n",
    "    \n",
    "    if use_meta_opt: metaopt = MetaOpt(state_dim, H=4, HH=1, meta_lr=1e-7, delta=0., m_method='scalar')\n",
    "\n",
    "    losses = []\n",
    "    params = initial_params\n",
    "    for _ in tqdm.trange(500):\n",
    "        params, grad, loss = gd(params, lr, cost_fn)\n",
    "        losses.append(loss)\n",
    "        if use_meta_opt: \n",
    "            params = metaopt.meta_step(params, grad, lr, cost_fn)\n",
    "    return losses"
   ]
  },
  {
   "cell_type": "code",
   "execution_count": 100,
   "id": "21c58f66-764d-49fb-9dbf-1e1dbac9efee",
   "metadata": {},
   "outputs": [
    {
     "name": "stderr",
     "output_type": "stream",
     "text": [
      "100%|█████████████████████████████████████████████████████████████████████████████████████████████| 500/500 [00:00<00:00, 516.45it/s]\n",
      "100%|██████████████████████████████████████████████████████████████████████████████████████████████| 500/500 [00:06<00:00, 71.84it/s]\n"
     ]
    }
   ],
   "source": [
    "state_dim = 500000\n",
    "seed = 2\n",
    "losses = run(seed, state_dim, False)\n",
    "mo_losses = run(seed, state_dim, True)"
   ]
  },
  {
   "cell_type": "code",
   "execution_count": 101,
   "id": "8676d340-6a7a-4572-b512-4a06081d1437",
   "metadata": {},
   "outputs": [
    {
     "data": {
      "text/plain": [
       "[<matplotlib.lines.Line2D at 0x2a7d4b310>]"
      ]
     },
     "execution_count": 101,
     "metadata": {},
     "output_type": "execute_result"
    },
    {
     "data": {
      "image/png": "[encoded data removed]",
      "text/plain": [
       "<Figure size 640x480 with 1 Axes>"
      ]
     },
     "metadata": {},
     "output_type": "display_data"
    }
   ],
   "source": [
    "plt.plot(range(len(losses)), losses)\n",
    "plt.plot(range(len(mo_losses)), mo_losses)"
   ]
  },
  {
   "cell_type": "code",
   "execution_count": null,
   "id": "8695058c-55f4-466a-9324-37e75d183865",
   "metadata": {},
   "outputs": [],
   "source": []
  }
 ],
 "metadata": {
  "kernelspec": {
   "display_name": "meta-opt",
   "language": "python",
   "name": "meta-opt"
  },
  "language_info": {
   "codemirror_mode": {
    "name": "ipython",
    "version": 3
   },
   "file_extension": ".py",
   "mimetype": "text/x-python",
   "name": "python",
   "nbconvert_exporter": "python",
   "pygments_lexer": "ipython3",
   "version": "3.11.6"
  }
 },
 "nbformat": 4,
 "nbformat_minor": 5
}
