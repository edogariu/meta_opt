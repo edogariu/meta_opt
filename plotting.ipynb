{
 "cells": [
  {
   "cell_type": "code",
   "execution_count": 1,
   "id": "760f4e7d-a02f-42f3-b87d-231d03392428",
   "metadata": {
    "colab": {
     "base_uri": "https://localhost:8080/"
    },
    "id": "760f4e7d-a02f-42f3-b87d-231d03392428",
    "outputId": "5af8d008-1034-4d1d-bc78-58a0d6ffc6e6"
   },
   "outputs": [],
   "source": [
    "from meta_opt.utils.experiment_utils import make, process_results, bcolors, plot, get_final_cparams\n",
    "\n",
    "import os\n",
    "import matplotlib.pyplot as plt\n",
    "from IPython.display import HTML\n",
    "import itertools\n",
    "import dill as pkl"
   ]
  },
  {
   "cell_type": "markdown",
   "id": "125998da-b7ed-4d07-af09-d2020a813e0a",
   "metadata": {
    "id": "125998da-b7ed-4d07-af09-d2020a813e0a"
   },
   "source": [
    "# Load"
   ]
  },
  {
   "cell_type": "code",
   "execution_count": 4,
   "id": "8211e988-2b8f-43a1-9ba5-23045d3057d3",
   "metadata": {
    "colab": {
     "base_uri": "https://localhost:8080/"
    },
    "id": "8211e988-2b8f-43a1-9ba5-23045d3057d3",
    "outputId": "ef881563-f7b8-483c-b35a-523921e95e13"
   },
   "outputs": [
    {
     "name": "stdout",
     "output_type": "stream",
     "text": [
      "using \u001b[93m\u001b[1mcpu\u001b[0m for jax\n",
      "results will be stored at: \u001b[96m\u001b[1m/Users/evandigiorno/Desktop/meta-opt/data/mnist_fullbatch_*.pkl\u001b[0m\n",
      "we will try to load experiment checkpoint first\n",
      "\t\u001b[92m\u001b[1mloaded checkpoint from /Users/evandigiorno/Desktop/meta-opt/data/mnist_fullbatch_raw.pkl, containing ['cf', 'cf_3', 'cf_0.1', 'ncf', 'ncf_0.1', 'sgd', 'momentum', 'adamw', 'hgd']\u001b[0m\n",
      "\u001b[91m\u001b[1mnote: using full_batch means we will never eval\u001b[0m\n"
     ]
    }
   ],
   "source": [
    "# configuration\n",
    "CFG = {\n",
    "    # training options are None because we arent training :)\n",
    "    'workload': None,\n",
    "    'num_iters': None,\n",
    "    'eval_every': None,\n",
    "    'num_eval_iters': None,\n",
    "    'batch_size': None,\n",
    "    'full_batch': True,\n",
    "    'reset_every': None,\n",
    "\n",
    "    # experiment options\n",
    "    'experiment_name': 'mnist_fullbatch',\n",
    "    'load_checkpoint': True,\n",
    "    'overwrite': False,  # whether to allow us to overwrite existing checkpoints or throw errors\n",
    "    'directory': os.path.abspath(\".\"),\n",
    "}\n",
    "\n",
    "# results = make(CFG)  # save to temp var `_results` so that we dont immediately overwrite `results` in case somethings wrong\n",
    "# processed_results = process_results(CFG, results)\n",
    "processed_results = pkl.load(open('{}/data/{}_processed.pkl'.format(CFG['directory'], CFG['experiment_name']), 'rb'))"
   ]
  },
  {
   "cell_type": "code",
   "execution_count": null,
   "id": "cc0c9b20-635f-44cf-91c7-66605b5877ff",
   "metadata": {},
   "outputs": [],
   "source": [
    "# from meta_opt.utils.experiment_utils import save_checkpoint\n",
    "# results = {}\n",
    "# for k in r0.keys():\n",
    "#     results[k] = [r0[k][0], r1[k][0], r2[k][0], r3[k][0], r4[k][0], r5[k][0]]\n",
    "#     for i in range(3):\n",
    "#         results[k][i]['args']['experiment_name'] = 'cifar_pretrained'\n",
    "# save_checkpoint(CFG, results)"
   ]
  },
  {
   "cell_type": "markdown",
   "id": "c3f13ef9-3e01-4171-b516-a50e90c4c8cf",
   "metadata": {
    "id": "c3f13ef9-3e01-4171-b516-a50e90c4c8cf"
   },
   "source": [
    "# Plot\n",
    "Plot annd also animate the values taken by the $\\{M_h\\}_{h=1}^H$ coefficients during training. Each $M_h$ multiplies a disturbance from $h$ training steps ago (i.e. 0 is most recent in this plot)."
   ]
  },
  {
   "cell_type": "code",
   "execution_count": 3,
   "id": "kkj0hJUA5gkp",
   "metadata": {
    "id": "kkj0hJUA5gkp"
   },
   "outputs": [
    {
     "ename": "NameError",
     "evalue": "name 'results' is not defined",
     "output_type": "error",
     "traceback": [
      "\u001b[0;31m---------------------------------------------------------------------------\u001b[0m",
      "\u001b[0;31mNameError\u001b[0m                                 Traceback (most recent call last)",
      "Cell \u001b[0;32mIn[3], line 21\u001b[0m\n\u001b[1;32m     15\u001b[0m \u001b[38;5;66;03m# ----------------------------------------\u001b[39;00m\n\u001b[1;32m     16\u001b[0m \u001b[38;5;66;03m# OR just plot em via regex\u001b[39;00m\n\u001b[1;32m     17\u001b[0m \u001b[38;5;66;03m# ----------------------------------------\u001b[39;00m\n\u001b[1;32m     18\u001b[0m \u001b[38;5;66;03m# keys_to_plot = '.*long.*'  # specific regex\u001b[39;00m\n\u001b[1;32m     19\u001b[0m keys_to_plot \u001b[38;5;241m=\u001b[39m \u001b[38;5;124m'\u001b[39m\u001b[38;5;124m.*\u001b[39m\u001b[38;5;124m'\u001b[39m  \u001b[38;5;66;03m# anything\u001b[39;00m\n\u001b[0;32m---> 21\u001b[0m (fig, ax), anim \u001b[38;5;241m=\u001b[39m plot(\u001b[43mresults\u001b[49m, processed_results, keys_to_plot, anim_bounds\u001b[38;5;241m=\u001b[39m(\u001b[38;5;241m-\u001b[39m\u001b[38;5;241m0.15\u001b[39m, \u001b[38;5;241m0.05\u001b[39m))\n\u001b[1;32m     22\u001b[0m ax[\u001b[38;5;241m1\u001b[39m]\u001b[38;5;241m.\u001b[39mset_xlim(\u001b[38;5;241m0\u001b[39m, \u001b[38;5;241m20000\u001b[39m)\n\u001b[1;32m     23\u001b[0m \u001b[38;5;66;03m# ax[1].set_ylim(0.,0.1)\u001b[39;00m\n\u001b[1;32m     24\u001b[0m \u001b[38;5;66;03m# ax[2].set_ylim(0.5, 0.9)\u001b[39;00m\n\u001b[1;32m     25\u001b[0m \u001b[38;5;66;03m# ax[3].set_ylim(0.95, 0.99)\u001b[39;00m\n\u001b[1;32m     26\u001b[0m \u001b[38;5;66;03m# ax[4].set_ylim(-0.1, 40)\u001b[39;00m\n\u001b[1;32m     27\u001b[0m \u001b[38;5;66;03m# ax[5].set_ylim(-0.05, 0.05)\u001b[39;00m\n\u001b[1;32m     28\u001b[0m \u001b[38;5;66;03m# plt.savefig(f'{DIR}/figs/{CFG['experiment_name']}.pdf')\u001b[39;00m\n",
      "\u001b[0;31mNameError\u001b[0m: name 'results' is not defined"
     ]
    }
   ],
   "source": [
    "# ----------------------------------------\n",
    "# plot a particular set of experiments\n",
    "# ----------------------------------------\n",
    "keys_to_plot = [\n",
    "    'sgd',\n",
    "    'momentum',\n",
    "    'adamw',\n",
    "    # 'rmsprop',\n",
    "    'hgd',\n",
    "    'ncf',\n",
    "    'cf',\n",
    "    'frozen',\n",
    "]\n",
    "\n",
    "# ----------------------------------------\n",
    "# OR just plot em via regex\n",
    "# ----------------------------------------\n",
    "# keys_to_plot = '.*long.*'  # specific regex\n",
    "keys_to_plot = '.*'  # anything\n",
    "\n",
    "(fig, ax), anim = plot(results, processed_results, keys_to_plot, anim_bounds=(-0.15, 0.05))\n",
    "ax[1].set_xlim(0, 20000)\n",
    "# ax[1].set_ylim(0.,0.1)\n",
    "# ax[2].set_ylim(0.5, 0.9)\n",
    "# ax[3].set_ylim(0.95, 0.99)\n",
    "# ax[4].set_ylim(-0.1, 40)\n",
    "# ax[5].set_ylim(-0.05, 0.05)\n",
    "# plt.savefig(f'{DIR}/figs/{CFG['experiment_name']}.pdf')\n",
    "for a in ax: a.legend()\n",
    "plt.show()\n",
    "\n",
    "h = HTML(anim.to_html5_video())\n",
    "display(h)"
   ]
  },
  {
   "cell_type": "code",
   "execution_count": null,
   "id": "c7eb16f8-6b44-40d9-aca1-e7fac25add3f",
   "metadata": {},
   "outputs": [],
   "source": [
    "from time import perf_counter\n",
    "from typing import Tuple\n",
    "from collections import defaultdict\n",
    "from copy import deepcopy\n",
    "import tqdm\n",
    "import dill as pkl\n",
    "import numpy as np\n",
    "import os\n",
    "import matplotlib.pyplot as plt\n",
    "import re\n",
    "import matplotlib.animation as animation\n",
    "from meta_opt.utils.experiment_utils import animate\n",
    "\n",
    "def custom_plot(results, processed_results, keys_to_plot, anim_downsample_factor=200, anim_bounds=(-0.4, 0.1)):\n",
    "    fig, ax = plt.subplots(2, 1, figsize=(10, 10))\n",
    "    Ms = {}\n",
    "    for i, stat_key in enumerate(processed_results.keys()):\n",
    "        if stat_key not in ['loss', 'eval_acc']: continue\n",
    "        else: i = ['loss', 'eval_acc'].index(stat_key)\n",
    "        ax[i].set_title('Training Loss' if stat_key == 'loss' else 'Evaluation Accuracy')\n",
    "        for experiment_name in processed_results[stat_key].keys():\n",
    "            if (isinstance(keys_to_plot, list) and experiment_name not in keys_to_plot) or (isinstance(keys_to_plot, str) and not re.match(keys_to_plot, experiment_name)): \n",
    "                # print(f'skipped {experiment_name}')\n",
    "                continue\n",
    "            ts, avgs, stds = processed_results[stat_key][experiment_name]['t'], processed_results[stat_key][experiment_name]['avg'], processed_results[stat_key][experiment_name]['std']\n",
    "            if avgs.ndim == 2:  # how to handle stats that are vectors (such as the Ms for scalar meta-opt)\n",
    "                Ms[experiment_name] = (ts, avgs)\n",
    "                ax[i].plot(ts, avgs.sum(axis=-1), label=experiment_name)\n",
    "                stds = ((stds ** 2).sum(axis=-1)) ** 0.5\n",
    "                ax[i].fill_between(ts, avgs.sum(axis=-1) - 1.96 * stds, avgs.sum(axis=-1) + 1.96 * stds, alpha=0.2)\n",
    "                # for j in range(avgs.shape[1]):\n",
    "                #     ax[i].plot(ts, avgs[:, j], label=f'{experiment_name} {str(j)}')\n",
    "                #     ax[i].fill_between(ts, avgs[:, j] - 1.96 * stds[:, j], avgs[:, j] + 1.96 * stds[:, j], alpha=0.2)\n",
    "            else:\n",
    "                if stat_key in ['loss', 'grad_sq_norm', 'eval_acc', 'eval_loss']:\n",
    "                    n = 10\n",
    "                    kernel = np.array([1 / n,] * n)\n",
    "                    avgs = np.convolve(avgs, kernel)[n // 2:n // 2 + avgs.shape[0]]\n",
    "                    stds = np.convolve(stds ** 2, kernel ** 2)[n // 2:n // 2 + stds.shape[0]] ** 0.5\n",
    "                maps = {'metaopt_cf_long_noadam': 'counterfactual',\n",
    "                       'metaopt_ncf_long_noadam': 'noncounterfactual'}\n",
    "                ax[i].plot(ts, avgs, label=maps[experiment_name] if experiment_name in maps else experiment_name)\n",
    "                ax[i].fill_between(ts, avgs - 1.96 * stds, avgs + 1.96 * stds, alpha=0.2)\n",
    "    for a in ax: a.legend()\n",
    "    # anim = animate(results, Ms, anim_downsample_factor, anim_bounds)\n",
    "    anim = None\n",
    "    # plt.close()\n",
    "    return (fig, ax), anim\n",
    "\n",
    "(fig, ax), anim = custom_plot(results, processed_results, keys_to_plot, anim_bounds=(-0.05, 0.05))\n",
    "ax[0].set_ylim(0.,0.3)\n",
    "ax[1].set_ylim(0.96, 0.985)\n",
    "# plt.savefig('{}/figs/{}_losses.pdf'.format('.', CFG['experiment_name']))\n",
    "for a in ax: a.legend()\n",
    "# plt.show()\n",
    "\n",
    "# h = HTML(anim.to_html5_video())\n",
    "# display(h)"
   ]
  }
 ],
 "metadata": {
  "accelerator": "GPU",
  "colab": {
   "gpuType": "A100",
   "machine_shape": "hm",
   "provenance": []
  },
  "kernelspec": {
   "display_name": "meta-opt",
   "language": "python",
   "name": "meta-opt"
  },
  "language_info": {
   "codemirror_mode": {
    "name": "ipython",
    "version": 3
   },
   "file_extension": ".py",
   "mimetype": "text/x-python",
   "name": "python",
   "nbconvert_exporter": "python",
   "pygments_lexer": "ipython3",
   "version": "3.11.7"
  }
 },
 "nbformat": 4,
 "nbformat_minor": 5
}
