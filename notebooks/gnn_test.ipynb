{
 "cells": [
  {
   "cell_type": "code",
   "execution_count": 3,
   "id": "6a2388f2-c591-484c-8684-c021ccd53137",
   "metadata": {},
   "outputs": [
    {
     "name": "stderr",
     "output_type": "stream",
     "text": [
      "/Users/evandogariu/Desktop/meta-opt/.venv/lib/python3.9/site-packages/urllib3/__init__.py:35: NotOpenSSLWarning: urllib3 v2 only supports OpenSSL 1.1.1+, currently the 'ssl' module is compiled with 'LibreSSL 2.8.3'. See: https://github.com/urllib3/urllib3/issues/3020\n",
      "  warnings.warn(\n"
     ]
    }
   ],
   "source": [
    "from meta_opt.workloads.gnn import load_gnn\n",
    "import jax"
   ]
  },
  {
   "cell_type": "code",
   "execution_count": 4,
   "id": "495e9440-eaa5-4f2a-b4bc-01edb0830793",
   "metadata": {},
   "outputs": [
    {
     "name": "stdout",
     "output_type": "stream",
     "text": [
      "WARNING:tensorflow:From /Users/evandogariu/Desktop/meta-opt/.venv/lib/python3.9/site-packages/tensorflow_datasets/core/reader.py:101: CounterV2 (from tensorflow.python.data.experimental.ops.counter) is deprecated and will be removed in a future version.\n",
      "Instructions for updating:\n",
      "Use `tf.data.Dataset.counter(...)` instead.\n"
     ]
    },
    {
     "name": "stderr",
     "output_type": "stream",
     "text": [
      "WARNING:tensorflow:From /Users/evandogariu/Desktop/meta-opt/.venv/lib/python3.9/site-packages/tensorflow_datasets/core/reader.py:101: CounterV2 (from tensorflow.python.data.experimental.ops.counter) is deprecated and will be removed in a future version.\n",
      "Instructions for updating:\n",
      "Use `tf.data.Dataset.counter(...)` instead.\n"
     ]
    }
   ],
   "source": [
    "cfg = {\n",
    "    'num_iters': 500,\n",
    "    'batch_size': 5,\n",
    "    'num_eval_iters': -1,\n",
    "    'full_batch': False\n",
    "}\n",
    "\n",
    "tr, te, e, l, m = load_gnn(cfg, dataset_dir='../datasets')"
   ]
  },
  {
   "cell_type": "code",
   "execution_count": 6,
   "id": "8f10c385-4d42-42cf-b72c-670443f61cdf",
   "metadata": {},
   "outputs": [],
   "source": [
    "# Forked from the init2winit implementation here\n",
    "# https://github.com/google/init2winit/blob/master/init2winit/model_lib/gnn.py.\n",
    "from typing import Optional, Tuple\n",
    "\n",
    "from flax import linen as nn\n",
    "import jax.numpy as jnp\n",
    "import jraph\n",
    "\n",
    "\n",
    "def _make_embed(latent_dim, name):\n",
    "\n",
    "  def make_fn(inputs):\n",
    "    return nn.Dense(features=latent_dim, name=name)(inputs)\n",
    "\n",
    "  return make_fn\n",
    "\n",
    "\n",
    "def _make_mlp(hidden_dims, dropout, activation_fn):\n",
    "  \"\"\"Creates a MLP with specified dimensions.\"\"\"\n",
    "\n",
    "  def make_fn(*inputs):\n",
    "    x = jnp.concatenate([inp.reshape(-1) for inp in inputs], axis=0).reshape(1, -1)\n",
    "    for dim in hidden_dims:\n",
    "      x = nn.Dense(features=dim)(x)\n",
    "      x = nn.LayerNorm()(x)\n",
    "      x = activation_fn(x)\n",
    "      x = dropout(x)\n",
    "    return x\n",
    "      \n",
    "  # @jraph.concatenated_args\n",
    "  # def make_fn(inputs):\n",
    "  #   x = inputs\n",
    "  #   for dim in hidden_dims:\n",
    "  #     x = nn.Dense(features=dim)(x)\n",
    "  #     x = nn.LayerNorm()(x)\n",
    "  #     x = activation_fn(x)\n",
    "  #     x = dropout(x)\n",
    "  #   return x\n",
    "\n",
    "  return make_fn\n",
    "\n",
    "\n",
    "class GNN(nn.Module):\n",
    "  \"\"\"Defines a graph network.\n",
    "  The model assumes the input data is a jraph.GraphsTuple without global\n",
    "  variables. The final prediction will be encoded in the globals.\n",
    "  \"\"\"\n",
    "  num_outputs: int\n",
    "  latent_dim: int = 256\n",
    "  hidden_dims: Tuple[int] = (256,)\n",
    "  # If None, defaults to 0.1.\n",
    "  dropout_rate: Optional[float] = 0.1\n",
    "  num_message_passing_steps: int = 5\n",
    "  activation_fn_name: str = 'relu'\n",
    "\n",
    "  @nn.compact\n",
    "  def __call__(self, graph, train):\n",
    "    if self.dropout_rate is None:\n",
    "      dropout_rate = 0.1\n",
    "    else:\n",
    "      dropout_rate = self.dropout_rate\n",
    "    dropout = nn.Dropout(rate=dropout_rate, deterministic=not train)\n",
    "\n",
    "    graph = graph._replace(\n",
    "        globals=jnp.zeros([graph.n_node.shape[1], self.num_outputs]))\n",
    "\n",
    "    embedder = jraph.GraphMapFeatures(\n",
    "        embed_node_fn=_make_embed(self.latent_dim, name='node_embedding'),\n",
    "        embed_edge_fn=_make_embed(self.latent_dim, name='edge_embedding'))\n",
    "    graph = embedder(graph)\n",
    "\n",
    "    if self.activation_fn_name == 'relu':\n",
    "      activation_fn = nn.relu\n",
    "    elif self.activation_fn_name == 'gelu':\n",
    "      activation_fn = nn.gelu\n",
    "    elif self.activation_fn_name == 'silu':\n",
    "      activation_fn = nn.silu\n",
    "    else:\n",
    "      raise ValueError(\n",
    "          f'Invalid activation function name: {self.activation_fn_name}')\n",
    "\n",
    "    for _ in range(self.num_message_passing_steps):\n",
    "      net = jraph.GraphNetwork(\n",
    "          update_edge_fn=_make_mlp(\n",
    "              self.hidden_dims, dropout=dropout, activation_fn=activation_fn),\n",
    "          update_node_fn=_make_mlp(\n",
    "              self.hidden_dims, dropout=dropout, activation_fn=activation_fn),\n",
    "          update_global_fn=_make_mlp(\n",
    "              self.hidden_dims, dropout=dropout, activation_fn=activation_fn))\n",
    "\n",
    "      graph = net(graph)\n",
    "\n",
    "    # Map globals to represent the final result\n",
    "    decoder = jraph.GraphMapFeatures(embed_global_fn=nn.Dense(self.num_outputs))\n",
    "    graph = decoder(graph)\n",
    "\n",
    "    return graph.globals"
   ]
  },
  {
   "cell_type": "code",
   "execution_count": 7,
   "id": "0776cde5-c3a6-4071-8277-a10b1e64b8f2",
   "metadata": {},
   "outputs": [],
   "source": [
    "from meta_opt.nn import create_train_state\n",
    "import optax\n",
    "model = GNN(num_outputs=128)\n",
    "opt = optax.adam(0.001)"
   ]
  },
  {
   "cell_type": "code",
   "execution_count": null,
   "id": "1340aeec-8e01-487c-bbf0-26b996e0543e",
   "metadata": {},
   "outputs": [],
   "source": [
    "tstate = create_train_state(jax.random.PRNGKey(0), model, e, opt, l, metric_fns=m)"
   ]
  },
  {
   "cell_type": "code",
   "execution_count": 7,
   "id": "1538e3c8-e714-42af-bc99-0dd0a6f80541",
   "metadata": {},
   "outputs": [
    {
     "name": "stdout",
     "output_type": "stream",
     "text": [
      "(1, 6, 128) (1, 6, 128)\n",
      "(1, 6, 128) (1, 6, 128)\n",
      "(1, 6, 128) (1, 6, 128)\n",
      "(1, 6, 128) (1, 6, 128)\n",
      "(1, 6, 128) (1, 6, 128)\n",
      "(1, 6, 128) (1, 6, 128)\n"
     ]
    }
   ],
   "source": [
    "i = 0\n",
    "for x in tr:\n",
    "    print(x['weights'].shape, x['targets'].shape)\n",
    "    i += 1\n",
    "    if i > 5: break\n"
   ]
  },
  {
   "cell_type": "code",
   "execution_count": null,
   "id": "6807b859-6c77-45f1-bdc5-e6a45680aba0",
   "metadata": {},
   "outputs": [],
   "source": []
  }
 ],
 "metadata": {
  "kernelspec": {
   "display_name": "metaopt",
   "language": "python",
   "name": "metaopt"
  },
  "language_info": {
   "codemirror_mode": {
    "name": "ipython",
    "version": 3
   },
   "file_extension": ".py",
   "mimetype": "text/x-python",
   "name": "python",
   "nbconvert_exporter": "python",
   "pygments_lexer": "ipython3",
   "version": "3.9.6"
  }
 },
 "nbformat": 4,
 "nbformat_minor": 5
}
